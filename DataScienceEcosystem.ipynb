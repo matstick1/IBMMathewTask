{
 "cells": [
  {
   "cell_type": "markdown",
   "id": "d5fd1de4-3e41-42a0-a33f-f0d552081a42",
   "metadata": {},
   "source": [
    "# Data Science Tools and Ecosystem"
   ]
  },
  {
   "cell_type": "markdown",
   "id": "428ef8a5-1550-4d21-8859-7e419147bd61",
   "metadata": {},
   "source": [
    "In this notebook, Data Science Tools and Ecosystem are summarized."
   ]
  },
  {
   "cell_type": "markdown",
   "id": "a35e9368-2a65-4ba2-8fa2-130fac827ebf",
   "metadata": {},
   "source": [
    "**Objectives:**\n",
    "* List of some popular programming languages in data science\n",
    "* Common libraries used by data scientists\n",
    "* Popular data science development environments (tools)\n",
    "* Basic arithmetic expressions"
   ]
  },
  {
   "cell_type": "markdown",
   "id": "f577de6b-d0e6-40de-9453-ec77c301d562",
   "metadata": {},
   "source": [
    "Some of the popular languages that Data Scientists use are;\n",
    "\n",
    "1. R\n",
    "2. Python\n",
    "3. Java\n",
    "4. Scala\n",
    "5. Ruby"
   ]
  },
  {
   "cell_type": "markdown",
   "id": "a4e328a0-4a2c-4058-8a95-0c01eb779e89",
   "metadata": {},
   "source": [
    "There are so many data science libraries used by data scientists. Some of the commonly used libraries used by Data Scientists include:\n",
    "1. Pandas\n",
    "2. Numpy\n",
    "3. Scikit-learn\n",
    "4. Seaborn\n",
    "5. Matplotlib and others\n"
   ]
  },
  {
   "cell_type": "markdown",
   "id": "ad1eb0c5-aaa2-47ba-8788-5745edfc13f9",
   "metadata": {},
   "source": [
    "|Data Science Tools|\n",
    "|-------------------|\n",
    "|JupyterLab|\n",
    "|RStudio|\n",
    "|VsCode|"
   ]
  },
  {
   "cell_type": "markdown",
   "id": "a1fe7422-abf9-40c4-867b-22751705b70d",
   "metadata": {},
   "source": [
    "### Below are a few examples of evaluating arithmetic expressions in Python."
   ]
  },
  {
   "cell_type": "code",
   "execution_count": 4,
   "id": "08d4bfcb-876c-44f1-b75f-555e3bf007f0",
   "metadata": {},
   "outputs": [
    {
     "data": {
      "text/plain": [
       "17"
      ]
     },
     "execution_count": 4,
     "metadata": {},
     "output_type": "execute_result"
    }
   ],
   "source": [
    "#This a simple arithmetic expression to mutiply then add integers\n",
    "(3*4)+5"
   ]
  },
  {
   "cell_type": "code",
   "execution_count": 6,
   "id": "0ef894e1-be75-451c-ab45-1b445b65c25a",
   "metadata": {},
   "outputs": [
    {
     "name": "stdout",
     "output_type": "stream",
     "text": [
      "200 minutes = 3.3333333333333335 hours\n"
     ]
    }
   ],
   "source": [
    "#This will convert 200 minutes to hours by diving by 60\n",
    "minutes = 200\n",
    "hours = minutes / 60\n",
    "print(\"200 minutes =\", hours, \"hours\")\n"
   ]
  },
  {
   "cell_type": "markdown",
   "id": "09a9f7ff-1d87-45c2-b959-858eb01804f7",
   "metadata": {},
   "source": [
    "## Authors\n",
    "Etchie Mathew"
   ]
  },
  {
   "cell_type": "code",
   "execution_count": null,
   "id": "652b2d34-4993-4aa2-9a77-511c359fe682",
   "metadata": {},
   "outputs": [],
   "source": []
  }
 ],
 "metadata": {
  "kernelspec": {
   "display_name": "Python 3 (ipykernel)",
   "language": "python",
   "name": "python3"
  },
  "language_info": {
   "codemirror_mode": {
    "name": "ipython",
    "version": 3
   },
   "file_extension": ".py",
   "mimetype": "text/x-python",
   "name": "python",
   "nbconvert_exporter": "python",
   "pygments_lexer": "ipython3",
   "version": "3.11.5"
  }
 },
 "nbformat": 4,
 "nbformat_minor": 5
}
